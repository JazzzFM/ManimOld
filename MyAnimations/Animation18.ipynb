{
 "cells": [
  {
   "cell_type": "code",
   "execution_count": null,
   "metadata": {},
   "outputs": [],
   "source": [
    "import jupyter_manim"
   ]
  },
  {
   "cell_type": "code",
   "execution_count": null,
   "metadata": {},
   "outputs": [],
   "source": [
    "!pip install -q attr"
   ]
  }
 ],
 "metadata": {
  "interpreter": {
   "hash": "6a1cc7af163091f2a3b77777263a704a6fc4ec49ec7d9021ef41a1990fc479aa"
  },
  "kernelspec": {
   "display_name": "Python 3.8.3 64-bit ('manim': venv)",
   "name": "python3"
  },
  "language_info": {
   "name": "python",
   "version": "3.8.3"
  },
  "orig_nbformat": 4
 },
 "nbformat": 4,
 "nbformat_minor": 2
}
