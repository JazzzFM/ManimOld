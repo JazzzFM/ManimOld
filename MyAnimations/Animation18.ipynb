{
 "cells": [
  {
   "cell_type": "code",
   "execution_count": null,
   "source": [],
   "outputs": [],
   "metadata": {}
  }
 ],
 "metadata": {
  "orig_nbformat": 4,
  "language_info": {
   "name": "python",
   "version": "3.8.3"
  },
  "kernelspec": {
   "name": "python3",
   "display_name": "Python 3.8.3 64-bit ('base': conda)"
  },
  "interpreter": {
   "hash": "80c717029fa80e56611f291979a1e5d9ed7333716758931403fabed78aaa4660"
  }
 },
 "nbformat": 4,
 "nbformat_minor": 2
}